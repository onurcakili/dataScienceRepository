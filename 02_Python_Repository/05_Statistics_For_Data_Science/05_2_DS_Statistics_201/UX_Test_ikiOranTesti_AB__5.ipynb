{
 "cells": [
  {
   "cell_type": "markdown",
   "metadata": {},
   "source": [
    "# İş Uygulaması: Kullanıcı Arayüzü Deneyi (AB Testi) (iki örneklem Oran Testi)\n",
    "\n",
    "## Detaylar:  \n",
    "\n",
    "* Arayüzde bulunan buton rengining kullanıcı üzerindeki etkisi ölçülecektir.  \n",
    "* Butonlardan birisi kırmızı diğeri ise yeşil renk olarak test edilecektir.  \n",
    "* Yeşil butonu gören kişi sayısı 1000 ve tıklayan kişi sayısı 300.  \n",
    "* Kırmızı butonu gören kişi sayısı 1100 ve tıklayan kişi sayısı 250.  \n",
    "\n",
    "H0: P1 <= P2  \n",
    "H1: P1 > P2  \n",
    "\n",
    "İki Örneklem Oran Testi gerçekleştireceğiz.  "
   ]
  },
  {
   "cell_type": "code",
   "execution_count": 2,
   "metadata": {},
   "outputs": [
    {
     "ename": "ModuleNotFoundError",
     "evalue": "No module named 'statsmodels'",
     "output_type": "error",
     "traceback": [
      "\u001b[1;31m---------------------------------------------------------------------------\u001b[0m",
      "\u001b[1;31mModuleNotFoundError\u001b[0m                       Traceback (most recent call last)",
      "Cell \u001b[1;32mIn[2], line 4\u001b[0m\n\u001b[0;32m      1\u001b[0m \u001b[38;5;28;01mimport\u001b[39;00m \u001b[38;5;21;01mnumpy\u001b[39;00m \u001b[38;5;28;01mas\u001b[39;00m \u001b[38;5;21;01mnp\u001b[39;00m\n\u001b[0;32m      2\u001b[0m \u001b[38;5;28;01mimport\u001b[39;00m \u001b[38;5;21;01mpandas\u001b[39;00m \u001b[38;5;28;01mas\u001b[39;00m \u001b[38;5;21;01mpd\u001b[39;00m\n\u001b[1;32m----> 4\u001b[0m \u001b[38;5;28;01mfrom\u001b[39;00m \u001b[38;5;21;01mstatsmodels\u001b[39;00m\u001b[38;5;21;01m.\u001b[39;00m\u001b[38;5;21;01mstats\u001b[39;00m\u001b[38;5;21;01m.\u001b[39;00m\u001b[38;5;21;01mproportion\u001b[39;00m \u001b[38;5;28;01mimport\u001b[39;00m proportions_ztest\n",
      "\u001b[1;31mModuleNotFoundError\u001b[0m: No module named 'statsmodels'"
     ]
    }
   ],
   "source": [
    "import numpy as np\n",
    "import pandas as pd\n",
    "\n",
    "from statsmodels.stats.proportion import proportions_ztest\n"
   ]
  },
  {
   "cell_type": "code",
   "execution_count": null,
   "metadata": {},
   "outputs": [],
   "source": [
    "basari_sayisi = np.array([300, 250])\n",
    "gozlem_sayisi = np.array([1000, 1100])"
   ]
  },
  {
   "cell_type": "code",
   "execution_count": null,
   "metadata": {},
   "outputs": [
    {
     "data": {
      "text/plain": [
       "(3.7857863233209255, 0.0001532232957772221)"
      ]
     },
     "execution_count": 5,
     "metadata": {},
     "output_type": "execute_result"
    }
   ],
   "source": [
    "proportions_ztest(basari_sayisi, gozlem_sayisi)\n",
    "\n",
    "#proportions_ztest(count = basari_sayisi, nobs= gozlem_sayisi)"
   ]
  },
  {
   "cell_type": "markdown",
   "metadata": {},
   "source": [
    "pValue < 0.05 olduğu için H0 Hipotezi Reddedilmiştir.  \n",
    "Buton renkleri arasında istatistiksel olarak anlamlı bir farklılık vardır.  \n",
    "Yeşil buton kullanıcı üzerinde olumlu bir etki bırakmıştır.    "
   ]
  },
  {
   "cell_type": "markdown",
   "metadata": {},
   "source": []
  }
 ],
 "metadata": {
  "kernelspec": {
   "display_name": "base",
   "language": "python",
   "name": "python3"
  },
  "language_info": {
   "codemirror_mode": {
    "name": "ipython",
    "version": 3
   },
   "file_extension": ".py",
   "mimetype": "text/x-python",
   "name": "python",
   "nbconvert_exporter": "python",
   "pygments_lexer": "ipython3",
   "version": "3.11.9"
  }
 },
 "nbformat": 4,
 "nbformat_minor": 2
}
