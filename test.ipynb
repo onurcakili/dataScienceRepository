{
 "cells": [
  {
   "cell_type": "markdown",
   "metadata": {},
   "source": [
    "# İçindekiler\n",
    "\n",
    "1. [Giriş](#giriş)\n",
    "2. [Veri Bilimi Nedir?](#veri-bilimi-nedir)\n",
    "    1. [Veri Bilimi Tanımı](#veri-bilimi-tanımı)\n",
    "    2. [Veri Bilimi İle İlgili Temel Kavramlar](#veri-bilimi-ile-ilgili-temel-kavramlar)\n",
    "3. [Python ile Veri Bilimi](#python-ile-veri-bilimi)\n",
    "    1. [Python'a Giriş](#python-a-giriş)\n",
    "    2. [Veri Manipülasyonu ve Temizliği](#veri-manipülasyonu-ve-temizliği)\n",
    "4. [Makine Öğrenmesi](#makine-öğrenmesi)\n",
    "    1. [Denetimli Öğrenme](#denetimli-öğrenme)\n",
    "    2. [Denetimsiz Öğrenme](#denetimsiz-öğrenme)\n",
    "5. [Sonuç](#sonuç)\n"
   ]
  },
  {
   "cell_type": "markdown",
   "metadata": {},
   "source": [
    "## Giriş\n",
    "Burada giriş metni olacak."
   ]
  },
  {
   "cell_type": "markdown",
   "metadata": {},
   "source": [
    "## Veri Bilimi Nedir?\n",
    "Burada veri bilimi hakkında açıklamalar olacak."
   ]
  },
  {
   "cell_type": "markdown",
   "metadata": {},
   "source": [
    "### Veri Bilimi Tanımı\n",
    "Burada veri bilimi tanımı yapılacak.\n"
   ]
  },
  {
   "cell_type": "markdown",
   "metadata": {},
   "source": [
    "### Veri Bilimi İle İlgili Temel Kavramlar\n",
    "Burada temel kavramlar anlatılacak."
   ]
  },
  {
   "cell_type": "markdown",
   "metadata": {},
   "source": [
    "## Python ile Veri Bilimi\n",
    "Burada Python ile veri bilimi hakkında bilgiler olacak."
   ]
  },
  {
   "cell_type": "markdown",
   "metadata": {},
   "source": [
    "### Python'a Giriş\n",
    "Python hakkında giriş yapılacak."
   ]
  },
  {
   "cell_type": "markdown",
   "metadata": {},
   "source": [
    "### Veri Manipülasyonu ve Temizliği\n",
    "Veri manipülasyonu ve temizliği hakkında bilgiler olacak."
   ]
  },
  {
   "cell_type": "markdown",
   "metadata": {},
   "source": [
    "\n",
    "\n",
    "\n",
    "\n",
    "\n",
    "\n",
    "\n",
    "\n",
    "\n",
    "\n",
    "\n",
    "\n",
    "## Makine Öğrenmesi\n",
    "Makine öğrenmesi konularına giriş yapılacak.\n",
    "\n",
    "### Denetimli Öğrenme\n",
    "Denetimli öğrenme hakkında bilgiler olacak.\n",
    "\n",
    "### Denetimsiz Öğrenme\n",
    "Denetimsiz öğrenme hakkında bilgiler olacak.\n",
    "\n",
    "## Sonuç\n",
    "Sonuç kısmı burada yer alacak."
   ]
  },
  {
   "cell_type": "markdown",
   "metadata": {},
   "source": []
  }
 ],
 "metadata": {
  "language_info": {
   "name": "python"
  }
 },
 "nbformat": 4,
 "nbformat_minor": 2
}
