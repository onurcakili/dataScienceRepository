{
 "cells": [
  {
   "cell_type": "markdown",
   "metadata": {},
   "source": [
    "# İçindekiler\n",
    "\n",
    "1. [Business Understanding (İşi Anlamak)](#business-understanding-işi-anlamak)  \n",
    "     1. [İş Problemini Anlamak](#i̇ş-problemini-anlamak)  \n",
    "     2. [Problemi Veri Bilimi Projesine Dönüştürme](#problemi-veri-bilimi-projesine-dönüştürme)  \n",
    "     3. [Hedefleri Belirleme](#hedefleri-belirleme)  \n",
    "\n",
    "2. [Data Understanding (Veriyi Anlamak)](#data-understanding-veriyi-anlamak)  \n",
    "     1. [Veri Kaynaklarını Belirleme](#veri-kaynaklarını-belirleme)  \n",
    "     2. [Veri İnceleme ve Temizlik](#veri-i̇nceleme-ve-temizlik)  \n",
    "     3. [Exploratory Data Analysis (EDA)](#exploratory-data-analysis-eda)  \n",
    "     \n",
    "3. [Data Preparation (Veri Hazırlığı)](#data-preparation-veri-hazırlığı)  \n",
    "     1. [Eksik Veri İşleme](#eksik-veri-i̇şleme)  \n",
    "     2. [Kategorik Verilerin Kodlanması](#kategorik-verilerin-kodlanması)  \n",
    "     3. [Outlier (Aykırı Değer) Tespiti ve Yönetimi](#outlier-aykırı-değer-tespiti-ve-yönetimi)  \n",
    "     4. [Veri Ölçeklendirme ve Normalizasyon](#veri-ölçeklendirme-ve-normalizasyon)  \n",
    "     5. [Özellik Mühendisliği (Feature Engineering)](#özellik-mühendisliği-feature-engineering)  \n",
    "     \n",
    "4. [Modeling (Modelleme)](#modeling-modelleme)  \n",
    "     1. [Hangi Problemlerde Hangi Modeller Kullanılır?](#hangi-problemlerde-hangi-modeller-kullanılır)  \n",
    "     2. [Python’da Model Kurma ve Eğitme](#pythonda-model-kurma-ve-eğitme)  \n",
    "     3. [Hiperparametre Optimizasyonu](#hiperparametre-optimizasyonu)  \n",
    "\n",
    "5. [Evaluation (Değerlendirme)](#evaluation-değerlendirme)    \n",
    "     1. [Performans Metrikleri](#performans-metrikleri)  \n",
    "\n",
    "6. [Deployment (Dağıtım)](#deployment-dağıtım)  \n",
    "     1. [Flask ile API Geliştirme](#flask-ile-api-geliştirme)\n"
   ]
  },
  {
   "cell_type": "markdown",
   "metadata": {},
   "source": [
    "### 1. Business Understanding (İşi Anlamak)"
   ]
  },
  {
   "cell_type": "markdown",
   "metadata": {},
   "source": [
    "### 2. Data Understanding (Veriyi Anlamak) "
   ]
  },
  {
   "cell_type": "markdown",
   "metadata": {},
   "source": [
    "### 3. Data Preparation (Veri Hazırlığı)"
   ]
  }
 ],
 "metadata": {
  "language_info": {
   "name": "python"
  }
 },
 "nbformat": 4,
 "nbformat_minor": 2
}
