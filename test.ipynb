{
 "cells": [
  {
   "cell_type": "markdown",
   "metadata": {},
   "source": [
    "# İçindekiler\n",
    "\n",
    "1. [Veri Manipulasyonu](#veri-manipulasyonu)\n",
    "2. [Veri Gorsellestirme](#veri-gorsellestirme)\n",
    "3. [Makine Ogrenimi](#makine-ogrenimi)"
   ]
  },
  {
   "cell_type": "markdown",
   "metadata": {},
   "source": [
    "## Veri Manipulasyonu\n",
    "Bu bölümde veri manipülasyonu teknikleri anlatılacak."
   ]
  },
  {
   "cell_type": "markdown",
   "metadata": {},
   "source": [
    "## Veri Gorsellestirme\n",
    "Bu bölümde veri görselleştirme araçları ve yöntemleri anlatılacak."
   ]
  },
  {
   "cell_type": "markdown",
   "metadata": {},
   "source": [
    "## Makine Ogrenimi\n",
    "Bu bölümde makine öğrenimi algoritmaları tartışılacak."
   ]
  },
  {
   "cell_type": "markdown",
   "metadata": {},
   "source": []
  }
 ],
 "metadata": {
  "language_info": {
   "name": "python"
  }
 },
 "nbformat": 4,
 "nbformat_minor": 2
}
