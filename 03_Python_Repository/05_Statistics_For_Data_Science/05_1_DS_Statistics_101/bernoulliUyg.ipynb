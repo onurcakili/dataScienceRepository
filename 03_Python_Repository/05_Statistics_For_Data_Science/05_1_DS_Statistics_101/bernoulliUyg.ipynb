{
 "cells": [
  {
   "cell_type": "code",
   "execution_count": 2,
   "metadata": {},
   "outputs": [],
   "source": [
    "from scipy.stats import bernoulli"
   ]
  },
  {
   "cell_type": "code",
   "execution_count": 3,
   "metadata": {},
   "outputs": [],
   "source": [
    "p = 0.6  # olasılık durumu ##probabilty\n",
    "         # 0,6 ile gerçekleşme olasılığı oldgn. varsayalım"
   ]
  },
  {
   "cell_type": "code",
   "execution_count": 7,
   "metadata": {},
   "outputs": [
    {
     "data": {
      "text/plain": [
       "0.4"
      ]
     },
     "execution_count": 7,
     "metadata": {},
     "output_type": "execute_result"
    }
   ],
   "source": [
    "bn = bernoulli(p)\n",
    "\n",
    "## PMF => probabilty mass function => olasılık kütle fonksiyonu\n",
    "\n",
    "bn.pmf(k=1)  #gerçekleşme olasılığı = tura = 0,6 \n",
    "bn.pmf(k=0) #gerçekleşmeme olasılığı = yazı = 0,4"
   ]
  },
  {
   "cell_type": "code",
   "execution_count": null,
   "metadata": {},
   "outputs": [],
   "source": []
  }
 ],
 "metadata": {
  "kernelspec": {
   "display_name": "base",
   "language": "python",
   "name": "python3"
  },
  "language_info": {
   "codemirror_mode": {
    "name": "ipython",
    "version": 3
   },
   "file_extension": ".py",
   "mimetype": "text/x-python",
   "name": "python",
   "nbconvert_exporter": "python",
   "pygments_lexer": "ipython3",
   "version": "3.11.4"
  }
 },
 "nbformat": 4,
 "nbformat_minor": 2
}
