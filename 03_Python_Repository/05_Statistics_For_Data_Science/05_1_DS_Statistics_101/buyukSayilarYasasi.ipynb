{
 "cells": [
  {
   "cell_type": "code",
   "execution_count": 3,
   "metadata": {},
   "outputs": [
    {
     "name": "stdout",
     "output_type": "stream",
     "text": [
      "Atis Sayisi:  2 ------ Yazi Olasiligi: 0.50\n",
      "Atis Sayisi:  4 ------ Yazi Olasiligi: 0.00\n",
      "Atis Sayisi:  8 ------ Yazi Olasiligi: 0.62\n",
      "Atis Sayisi:  16 ------ Yazi Olasiligi: 0.44\n",
      "Atis Sayisi:  32 ------ Yazi Olasiligi: 0.47\n",
      "Atis Sayisi:  64 ------ Yazi Olasiligi: 0.56\n",
      "Atis Sayisi:  128 ------ Yazi Olasiligi: 0.51\n",
      "Atis Sayisi:  256 ------ Yazi Olasiligi: 0.53\n",
      "Atis Sayisi:  512 ------ Yazi Olasiligi: 0.53\n",
      "Atis Sayisi:  1024 ------ Yazi Olasiligi: 0.50\n",
      "Atis Sayisi:  2048 ------ Yazi Olasiligi: 0.49\n",
      "Atis Sayisi:  4096 ------ Yazi Olasiligi: 0.49\n",
      "Atis Sayisi:  8192 ------ Yazi Olasiligi: 0.50\n",
      "Atis Sayisi:  16384 ------ Yazi Olasiligi: 0.50\n",
      "Atis Sayisi:  32768 ------ Yazi Olasiligi: 0.50\n",
      "Atis Sayisi:  65536 ------ Yazi Olasiligi: 0.50\n",
      "Atis Sayisi:  131072 ------ Yazi Olasiligi: 0.50\n",
      "Atis Sayisi:  262144 ------ Yazi Olasiligi: 0.50\n",
      "Atis Sayisi:  524288 ------ Yazi Olasiligi: 0.50\n",
      "Atis Sayisi:  1048576 ------ Yazi Olasiligi: 0.50\n"
     ]
    }
   ],
   "source": [
    "import numpy as np\n",
    "\n",
    "rng = np.random.RandomState(123)\n",
    "\n",
    "for x in np.arange(1, 21):\n",
    "    deney_sayisi = 2**x\n",
    "    yazi_tura = rng.randint(0, 2, size= deney_sayisi)\n",
    "    yazi_tura_prob = np.mean(yazi_tura)\n",
    "    print(\"Atis Sayisi: \", deney_sayisi, \"------\" , 'Yazi Olasiligi: %.2f' % yazi_tura_prob)"
   ]
  },
  {
   "cell_type": "code",
   "execution_count": null,
   "metadata": {},
   "outputs": [],
   "source": []
  }
 ],
 "metadata": {
  "kernelspec": {
   "display_name": "base",
   "language": "python",
   "name": "python3"
  },
  "language_info": {
   "codemirror_mode": {
    "name": "ipython",
    "version": 3
   },
   "file_extension": ".py",
   "mimetype": "text/x-python",
   "name": "python",
   "nbconvert_exporter": "python",
   "pygments_lexer": "ipython3",
   "version": "3.11.4"
  }
 },
 "nbformat": 4,
 "nbformat_minor": 2
}
